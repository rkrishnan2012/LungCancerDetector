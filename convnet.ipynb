{
 "cells": [
  {
   "cell_type": "code",
   "execution_count": 1,
   "metadata": {
    "collapsed": true,
    "deletable": true,
    "editable": true
   },
   "outputs": [],
   "source": [
    "%matplotlib inline\n",
    "\n",
    "import numpy as np\n",
    "import pandas as pd\n",
    "import os\n",
    "import dicom\n",
    "import scipy.ndimage\n",
    "import matplotlib.pyplot as plt\n",
    "import time\n",
    "import traceback\n",
    "import tensorflow as tf\n",
    "import numpy as np\n",
    "import scipy.ndimage\n",
    "\n",
    "from multiprocessing.dummy import Pool as ThreadPool \n",
    "from tqdm import tqdm\n",
    "from skimage import measure, morphology\n",
    "from skimage.draw import polygon\n",
    "from mpl_toolkits.mplot3d.art3d import Poly3DCollection\n",
    "from tempfile import TemporaryFile\n",
    "\n",
    "# Get a list of patient folders in the data folder.\n",
    "INPUT_FOLDER = 'example_dcm/'\n",
    "patients = os.walk('./example_dcm').next()[1]\n",
    "patients.sort()\n",
    "\n",
    "test_patients = os.walk('./provisional_dcm_no_gt').next()[1]\n",
    "test_patients.sort()"
   ]
  },
  {
   "cell_type": "code",
   "execution_count": 2,
   "metadata": {
    "collapsed": true,
    "deletable": true,
    "editable": true
   },
   "outputs": [],
   "source": [
    "IMG_SIZE_PX = 50\n",
    "SLICE_COUNT = 20\n",
    "NUM_EPOCHS = 1\n",
    "\n",
    "\n",
    "\n",
    "n_classes = 6\n",
    "\n",
    "x = tf.placeholder('float')\n",
    "y = tf.placeholder('float')\n",
    "\n",
    "keep_rate = 0.8"
   ]
  },
  {
   "cell_type": "code",
   "execution_count": 3,
   "metadata": {
    "collapsed": true,
    "deletable": true,
    "editable": true
   },
   "outputs": [],
   "source": [
    "def get_bounding_cube(cancer, resize_factor):\n",
    "    a = np.where(cancer != 0)\n",
    "    coords = np.min(a[0]), np.max(a[0]), np.min(a[1]), np.max(a[1]), np.min(a[2]), np.max(a[2])\n",
    "    box = [coords[0] * resize_factor[0], coords[2] * resize_factor[1], coords[4] * resize_factor[2], (coords[1] - coords[0]) * resize_factor[0], (coords[3] - coords[2]) * resize_factor[1], (coords[5] - coords[4]) * resize_factor[2]]\n",
    "    return box"
   ]
  },
  {
   "cell_type": "code",
   "execution_count": 4,
   "metadata": {
    "collapsed": true,
    "deletable": true,
    "editable": true
   },
   "outputs": [],
   "source": [
    "# Load the CT and RT documents for a patient.\n",
    "def load_scan(path):\n",
    "    def listdir_nohidden(path):\n",
    "        for f in os.listdir(path):\n",
    "            if not f.startswith('.'):\n",
    "                yield f\n",
    "    slice_rt = [dicom.read_file(path + \"/RTst/\" + s) for s in listdir_nohidden(path + \"/RTst\")]\n",
    "    slice_ct = [dicom.read_file(path + \"/CT/\" + s) for s in listdir_nohidden(path + \"/CT\")]\n",
    "    slice_ct.sort(key = lambda x: int(x.ImagePositionPatient[2]))    \n",
    "    return slice_ct, slice_rt"
   ]
  },
  {
   "cell_type": "code",
   "execution_count": 5,
   "metadata": {
    "collapsed": false,
    "deletable": true,
    "editable": true
   },
   "outputs": [],
   "source": [
    "def get_image_patient(patient):\n",
    "    if os.path.exists(INPUT_FOLDER + patient + \"/50x50x20.npy\"):\n",
    "        if os.path.exists(INPUT_FOLDER + patient + \"/50x50x20_cancer.npy\"):\n",
    "            resized_image = np.load(INPUT_FOLDER + patient + \"/50x50x20.npy\");\n",
    "            cancer_cube = np.load(INPUT_FOLDER + patient + \"/50x50x20_cancer.npy\");\n",
    "            return resized_image, cancer_cube / 50;\n",
    "        \n",
    "    image = np.load(INPUT_FOLDER + patient + \"/image.npy\");\n",
    "    cancer = np.load(INPUT_FOLDER + patient + \"/truthV1.npy\");\n",
    "    resize_factor = [float(IMG_SIZE_PX) / image.shape[0], float(IMG_SIZE_PX) / image.shape[1], float(SLICE_COUNT) / image.shape[2]]\n",
    "    resized_image = scipy.ndimage.interpolation.zoom(image, resize_factor, mode='nearest');\n",
    "    cancer_cube = get_bounding_cube(cancer, 1 / image.shape);\n",
    "    np.save(INPUT_FOLDER + patient + \"/50x50x20.npy\", resized_image);\n",
    "    np.save(INPUT_FOLDER + patient + \"/50x50x20_cancer.npy\", cancer_cube);\n",
    "    \n",
    "    # Uncomment to show image of patient CT somewhere in the middle\n",
    "    # plt.imshow(resized_image.transpose()[30])\n",
    "    # plt.show()\n",
    "            \n",
    "    return resized_image, cancer_cube "
   ]
  },
  {
   "cell_type": "code",
   "execution_count": 6,
   "metadata": {
    "collapsed": false,
    "deletable": true,
    "editable": true
   },
   "outputs": [
    {
     "data": {
      "image/png": "[encoded data removed]",
      "text/plain": [
       "<matplotlib.figure.Figure at 0x7faf9fc6a2d0>"
      ]
     },
     "metadata": {},
     "output_type": "display_data"
    }
   ],
   "source": [
    "a,b = get_image_patient(patients[0])\n",
    "plt.imshow(a.transpose()[10])\n",
    "plt.show()\n",
    "            "
   ]
  },
  {
   "cell_type": "code",
   "execution_count": 7,
   "metadata": {
    "collapsed": false,
    "deletable": true,
    "editable": true
   },
   "outputs": [],
   "source": [
    "def conv3d(x, W):\n",
    "    return tf.nn.conv3d(x, W, strides=[1,1,1,1,1], padding='SAME')\n",
    "\n",
    "def maxpool3d(x):\n",
    "    #                        size of window         movement of window as you slide about\n",
    "    return tf.nn.max_pool3d(x, ksize=[1,2,2,2,1], strides=[1,2,2,2,1], padding='SAME')\n",
    "def fc(x, weight, bias):\n",
    "    shape = x.get_shape().as_list()\n",
    "    dim = 1\n",
    "    for d in shape[1:]:\n",
    "        if d is not None:\n",
    "            dim *= d\n",
    "    x = tf.reshape(x, [-1, dim])\n",
    "    return tf.matmul(x, weight) + bias"
   ]
  },
  {
   "cell_type": "code",
   "execution_count": 8,
   "metadata": {
    "collapsed": true,
    "deletable": true,
    "editable": true
   },
   "outputs": [],
   "source": [
    "def conv_2(x):\n",
    "               # 3 x 3 x 3 patches, 1 channel, 32 features to compute.\n",
    "    weights = {'W_conv1':tf.Variable(tf.random_normal([3, 3, 3, 1, 32])),\n",
    "               # 3 x 3 x 3 patches, 32 channels, 64 features to compute.\n",
    "               'W_conv2':tf.Variable(tf.random_normal([3, 3, 3, 32, 64])),\n",
    "               # 52 because 50 plus zero padding on each border\n",
    "               'W_fc':tf.Variable(tf.random_normal([(IMG_SIZE_PX + 2) * (IMG_SIZE_PX + 2) * SLICE_COUNT, 1024])),\n",
    "               'out':tf.Variable(tf.random_normal([1024, n_classes]))}\n",
    "\n",
    "    biases = { 'b_conv1':tf.Variable(tf.random_normal([32])),\n",
    "               'b_conv2':tf.Variable(tf.random_normal([64])),\n",
    "               'b_fc':tf.Variable(tf.random_normal([1024])),\n",
    "               'out':tf.Variable(tf.random_normal([n_classes], 0, 0.1))}\n",
    "\n",
    "    #                            image X      image Y        image Z\n",
    "    x = tf.reshape(x, shape=[-1, IMG_SIZE_PX, IMG_SIZE_PX, SLICE_COUNT, 1])\n",
    "\n",
    "    conv1 = tf.nn.relu(conv3d(x, weights['W_conv1']) + biases['b_conv1'])\n",
    "    conv1 = maxpool3d(conv1)\n",
    "\n",
    "\n",
    "    conv2 = tf.nn.relu(conv3d(conv1, weights['W_conv2']) + biases['b_conv2'])\n",
    "    conv2 = maxpool3d(conv2)\n",
    "\n",
    "    fc = tf.reshape(conv2,[-1, (IMG_SIZE_PX + 2) * (IMG_SIZE_PX + 2) * SLICE_COUNT])\n",
    "    fc = tf.nn.relu(tf.matmul(fc, weights['W_fc']) + biases['b_fc'])\n",
    "    fc = tf.nn.dropout(fc, keep_rate)\n",
    "\n",
    "    output = tf.matmul(fc, weights['out']) + biases['out']\n",
    "\n",
    "    return output"
   ]
  },
  {
   "cell_type": "code",
   "execution_count": 9,
   "metadata": {
    "collapsed": true,
    "deletable": true,
    "editable": true
   },
   "outputs": [],
   "source": [
    "def vgg_16(x):\n",
    "    weights = {'conv1_1':tf.Variable(tf.random_normal([3, 3, 3, 1, 64])),\n",
    "               'conv1_2':tf.Variable(tf.random_normal([3, 3, 3, 64, 64])),\n",
    "               'conv2_1':tf.Variable(tf.random_normal([3, 3, 3, 64, 128])),\n",
    "               'conv2_2':tf.Variable(tf.random_normal([3, 3, 3, 128, 128])),\n",
    "               'conv3_1':tf.Variable(tf.random_normal([3, 3, 3, 128, 256])),\n",
    "               'conv3_2':tf.Variable(tf.random_normal([3, 3, 3, 256, 256])),\n",
    "               'conv3_3':tf.Variable(tf.random_normal([3, 3, 3, 256, 256])),\n",
    "               'conv4_1':tf.Variable(tf.random_normal([3, 3, 3, 256, 512])),\n",
    "               'conv4_2':tf.Variable(tf.random_normal([3, 3, 3, 512, 512])),\n",
    "               'conv4_3':tf.Variable(tf.random_normal([3, 3, 3, 512, 512])),\n",
    "               'conv5_1':tf.Variable(tf.random_normal([3, 3, 3, 512, 512])),\n",
    "               'conv5_2':tf.Variable(tf.random_normal([3, 3, 3, 512, 512])),\n",
    "               'conv5_3':tf.Variable(tf.random_normal([3, 3, 3, 512, 512])),\n",
    "               'fc6':tf.Variable(tf.random_normal([2048, 2048])),\n",
    "               'fc7':tf.Variable(tf.random_normal([2048, 1024])),               \n",
    "               'out':tf.Variable(tf.random_normal([1024, n_classes]))}\n",
    "\n",
    "    biases = { 'b_conv1_1':tf.Variable(tf.random_normal([64])),\n",
    "               'b_conv1_2':tf.Variable(tf.random_normal([64])),\n",
    "               'b_conv2_1':tf.Variable(tf.random_normal([64])),\n",
    "               'b_conv2_2':tf.Variable(tf.random_normal([128])),\n",
    "               'b_conv3_1':tf.Variable(tf.random_normal([256])),\n",
    "               'b_conv3_2':tf.Variable(tf.random_normal([256])),\n",
    "               'b_conv3_3':tf.Variable(tf.random_normal([256])),\n",
    "               'b_conv4_1':tf.Variable(tf.random_normal([512])),\n",
    "               'b_conv4_2':tf.Variable(tf.random_normal([512])),\n",
    "               'b_conv4_3':tf.Variable(tf.random_normal([512])),\n",
    "               'b_conv5_1':tf.Variable(tf.random_normal([512])),\n",
    "               'b_conv5_2':tf.Variable(tf.random_normal([512])),\n",
    "               'b_conv5_3':tf.Variable(tf.random_normal([512])),\n",
    "               'b_fc6':tf.Variable(tf.random_normal([2048])),\n",
    "               'b_fc7':tf.Variable(tf.random_normal([1024])),               \n",
    "               'out':tf.Variable(tf.random_normal([n_classes], 0, 0.1))}\n",
    "    \n",
    "     #                            image X      image Y        image Z\n",
    "    x = tf.reshape(x, shape=[-1, IMG_SIZE_PX, IMG_SIZE_PX, SLICE_COUNT, 1])\n",
    "    \n",
    "    conv1_1 = tf.nn.relu(conv3d(x, weights['conv1_1']) + biases['b_conv1_1'])\n",
    "    conv1_2 = tf.nn.relu(conv3d(conv1_1, weights['conv1_2']) + biases['b_conv1_2'])\n",
    "    pool1 = maxpool3d(conv1_2)\n",
    "    \n",
    "    conv2_1 = tf.nn.relu(conv3d(pool1, weights['conv2_1']) + biases['b_conv2_1'])\n",
    "    conv2_2 = tf.nn.relu(conv3d(conv2_1, weights['conv2_2']) + biases['b_conv2_2'])\n",
    "    pool2 = maxpool3d(conv2_1)\n",
    "    \n",
    "    conv3_1 = tf.nn.relu(conv3d(pool2, weights['conv3_1']) + biases['b_conv3_1'])\n",
    "    conv3_2 = tf.nn.relu(conv3d(conv3_1, weights['conv3_2']) + biases['b_conv3_2'])\n",
    "    conv3_3 = tf.nn.relu(conv3d(conv3_2, weights['conv3_3']) + biases['b_conv3_3'])\n",
    "    pool3 = maxpool3d(conv3_3)\n",
    "    \n",
    "    conv4_1 = tf.nn.relu(conv3d(pool3, weights['conv4_1']) + biases['b_conv4_1'])\n",
    "    conv4_2 = tf.nn.relu(conv3d(conv4_1, weights['conv4_2']) + biases['b_conv4_2'])\n",
    "    conv4_3 = tf.nn.relu(conv3d(conv4_2, weights['conv4_3']) + biases['b_conv4_3'])\n",
    "    pool4 = maxpool3d(conv4_3)\n",
    "    \n",
    "    conv5_1 = tf.nn.relu(conv3d(pool4, weights['conv5_1']) + biases['b_conv5_1'])\n",
    "    conv5_2 = tf.nn.relu(conv3d(conv5_1, weights['conv5_2']) + biases['b_conv5_2'])\n",
    "    conv5_3 = tf.nn.relu(conv3d(conv5_2, weights['conv5_3']) + biases['b_conv5_3'])\n",
    "    pool5 = maxpool3d(conv5_3)\n",
    "    \n",
    "    fc6 = tf.nn.relu(fc(pool5, weights['fc6'], biases['b_fc6']))\n",
    "    fc6 = tf.nn.dropout(fc6, keep_rate)\n",
    "    \n",
    "    fc7 = tf.nn.relu(fc(fc6, weights['fc7'], biases['b_fc7']))\n",
    "    fc7 = tf.nn.dropout(fc7, keep_rate)\n",
    "    \n",
    "    output = tf.matmul(fc7, weights['out']) + biases['out']\n",
    "    \n",
    "    return output;\n"
   ]
  },
  {
   "cell_type": "code",
   "execution_count": 10,
   "metadata": {
    "collapsed": true,
    "deletable": true,
    "editable": true
   },
   "outputs": [],
   "source": [
    "def pre_process_all_images(patients):\n",
    "    for i in patients:\n",
    "        print \"Resizing patient \", i\n",
    "        resized_image, cube = get_image_patient(i)"
   ]
  },
  {
   "cell_type": "code",
   "execution_count": 11,
   "metadata": {
    "collapsed": false,
    "deletable": true,
    "editable": true
   },
   "outputs": [],
   "source": [
    "def train_neural_network(x):\n",
    "    prediction = conv_2(x)\n",
    "    cost = tf.reduce_sum(tf.pow(prediction - y, 2))\n",
    "    optimizer = tf.train.AdamOptimizer(learning_rate=1e-3).minimize(cost)\n",
    "    \n",
    "    tf.add_to_collection('optimizer', optimizer)\n",
    "    tf.add_to_collection('cost', cost)\n",
    "    \n",
    "    lastSaveTime = time.time()\n",
    "    \n",
    "    saver = tf.train.Saver()\n",
    "    ckpt_num = 1;\n",
    "    \n",
    "    with tf.Session() as sess:\n",
    "        sess.run(tf.global_variables_initializer())\n",
    "        \n",
    "        if os.path.exists(\"model-19.meta\"):\n",
    "            saver = tf.train.import_meta_graph('./model-19.meta')\n",
    "            saver.restore(sess, './model-19')\n",
    "            optimizer = tf.get_collection('optimizer')[0]\n",
    "            cost = tf.get_collection('cost')[0]\n",
    "            print(\"Model restored.\")\n",
    "            loss = tf.reduce_sum(tf.pow(prediction - y, 2))\n",
    "            print('TestSetLoss:',loss.eval({x:[get_image_patient(i)[0] for i in patients[-50:]], y:[get_image_patient(i)[1] for i in patients[-50:]]}))\n",
    "            \n",
    "        \n",
    "        for epoch in range(NUM_EPOCHS):\n",
    "            epoch_loss = 0\n",
    "            currTime = time.time()\n",
    "                \n",
    "            for i in patients[:-50]:\n",
    "                resized_image, cube = get_image_patient(i)\n",
    "                \n",
    "                _, c = sess.run([optimizer, cost], feed_dict={x: resized_image, y: cube})\n",
    "                epoch_loss += c                \n",
    "                \n",
    "            print('Epoch', epoch+1, 'completed out of',NUM_EPOCHS,'loss:',epoch_loss)\n",
    "            a,b = get_image_patient(patients[1])\n",
    "            print sess.run(prediction, feed_dict={x:a})\n",
    "\n",
    "            \n",
    "            if(currTime - lastSaveTime > 60*30):\n",
    "                loss = tf.reduce_sum(tf.pow(prediction - y, 2))\n",
    "                print('TestSetLoss:',loss.eval({x:[get_image_patient(i)[0] for i in patients[-50:]], y:[get_image_patient(i)[1] for i in patients[-50:]]}))\n",
    "                lastSaveTime = currTime\n",
    "                a,b = get_image_patient(patients[1])\n",
    "                print sess.run(prediction, feed_dict={x:a})\n",
    "                save_path = saver.save(sess, \"model\", ckpt_num)\n",
    "                ckpt_num +=1;\n",
    "                print(\"Model saved in file: %s\" % save_path)\n",
    "        \n",
    "#                 a,b = get_image_patient(patients[0])\n",
    "#                 sess.run(prediction, feed_dict={x:a})\n",
    "#             \n",
    "#             print('Loss:',loss.eval({x:[get_image_patient(i)[0] for i in patients[50:60]], y:[get_image_patient(i)[1] for i in patients[50:60]]}))"
   ]
  },
  {
   "cell_type": "code",
   "execution_count": 12,
   "metadata": {
    "collapsed": false,
    "deletable": true,
    "editable": true
   },
   "outputs": [
    {
     "name": "stdout",
     "output_type": "stream",
     "text": [
      "Model restored.\n",
      "('TestSetLoss:', 4.614729e+14)\n",
      "('Epoch', 1, 'completed out of', 1, 'loss:', 7.2694306750781834)\n",
      "[[ 0.39529282  0.44529739  0.22401525  0.09126683  0.09195869  0.04262531]]\n"
     ]
    }
   ],
   "source": [
    "# pre_process_all_images(patients)\n",
    "train_neural_network(x)"
   ]
  },
  {
   "cell_type": "code",
   "execution_count": null,
   "metadata": {
    "collapsed": true,
    "deletable": true,
    "editable": true
   },
   "outputs": [],
   "source": []
  },
  {
   "cell_type": "code",
   "execution_count": null,
   "metadata": {
    "collapsed": true,
    "deletable": true,
    "editable": true
   },
   "outputs": [],
   "source": []
  },
  {
   "cell_type": "code",
   "execution_count": null,
   "metadata": {
    "collapsed": true,
    "deletable": true,
    "editable": true
   },
   "outputs": [],
   "source": []
  }
 ],
 "metadata": {
  "kernelspec": {
   "display_name": "conda env tensorflow",
   "language": "python",
   "name": "tensorflow"
  },
  "language_info": {
   "codemirror_mode": {
    "name": "ipython",
    "version": 2
   },
   "file_extension": ".py",
   "mimetype": "text/x-python",
   "name": "python",
   "nbconvert_exporter": "python",
   "pygments_lexer": "ipython2",
   "version": "2.7.12"
  }
 },
 "nbformat": 4,
 "nbformat_minor": 2
}
