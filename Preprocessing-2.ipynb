{
 "cells": [
  {
   "cell_type": "code",
   "execution_count": 323,
   "metadata": {
    "collapsed": false,
    "deletable": true,
    "editable": true
   },
   "outputs": [],
   "source": [
    "%matplotlib inline\n",
    "\n",
    "import numpy as np\n",
    "import pandas as pd\n",
    "import dicom\n",
    "import os\n",
    "import scipy.ndimage\n",
    "import matplotlib.pyplot as plt\n",
    "import time\n",
    "\n",
    "from tqdm import tqdm\n",
    "from skimage import measure, morphology\n",
    "from skimage.draw import polygon\n",
    "from mpl_toolkits.mplot3d.art3d import Poly3DCollection\n",
    "from tempfile import TemporaryFile\n",
    "\n",
    "# Get a list of patient folders in the data folder.\n",
    "INPUT_FOLDER = 'example_dcm/'\n",
    "patients = os.walk('./example_dcm').next()[1]\n",
    "patients.sort()"
   ]
  },
  {
   "cell_type": "code",
   "execution_count": 324,
   "metadata": {
    "collapsed": false,
    "deletable": true,
    "editable": true
   },
   "outputs": [],
   "source": [
    "# Load the CT and RT documents for a patient.\n",
    "def load_scan(path):\n",
    "    def listdir_nohidden(path):\n",
    "        for f in os.listdir(path):\n",
    "            if not f.startswith('.'):\n",
    "                yield f\n",
    "    slice_rt = [dicom.read_file(path + \"/RTst/\" + s) for s in listdir_nohidden(path + \"/RTst\")]\n",
    "    slice_ct = [dicom.read_file(path + \"/CT/\" + s) for s in listdir_nohidden(path + \"/CT\")]\n",
    "    slice_ct.sort(key = lambda x: int(x.ImagePositionPatient[2]))    \n",
    "    return slice_ct, slice_rt"
   ]
  },
  {
   "cell_type": "code",
   "execution_count": 325,
   "metadata": {
    "collapsed": true,
    "deletable": true,
    "editable": true
   },
   "outputs": [],
   "source": [
    "# Convert the pixel values to Hounsfield Units.\n",
    "def get_pixels_hu(slices):\n",
    "    image = np.stack([s.pixel_array for s in slices])\n",
    "    # Convert to int16 (from sometimes int16), \n",
    "    # should be possible as values should always be low enough (<32k)\n",
    "    image = image.astype(np.int16)\n",
    "\n",
    "    # Set outside-of-scan pixels to 0\n",
    "    # The intercept is usually -1024, so air is approximately 0\n",
    "    image[image == -2000] = 0\n",
    "    \n",
    "    # Convert to Hounsfield units (HU)\n",
    "    for slice_number in range(len(slices)):\n",
    "        \n",
    "        intercept = slices[slice_number].RescaleIntercept\n",
    "        slope = slices[slice_number].RescaleSlope\n",
    "        \n",
    "        if slope != 1:\n",
    "            image[slice_number] = slope * image[slice_number].astype(np.float64)\n",
    "            image[slice_number] = image[slice_number].astype(np.int16)\n",
    "            \n",
    "        image[slice_number] += np.int16(intercept)\n",
    "    \n",
    "    return np.array(image, dtype=np.int16)"
   ]
  },
  {
   "cell_type": "code",
   "execution_count": 336,
   "metadata": {
    "collapsed": false,
    "deletable": true,
    "editable": true
   },
   "outputs": [],
   "source": [
    "def load_all_slices(patientName):\n",
    "    first_patient_ct, first_patient_rt = load_scan(INPUT_FOLDER + patientName)\n",
    "\n",
    "    # Make a dictionary mapping the UID values of each slice to the slice number.\n",
    "    uid_location_dict = {}\n",
    "    for i, patient_slice in enumerate(first_patient_ct):\n",
    "        uid_location_dict[patient_slice[0x0008, 0x0018].value] = i\n",
    "\n",
    "    # Construct a list of regions in the whole scan and their points\n",
    "    labeled_regions = {};\n",
    "\n",
    "    cancer_roi_number = -1;\n",
    "\n",
    "    # Structure Set ROI Sequence is 3006.0020 in the RTst.\n",
    "    # http://dicom.nema.org/medical/Dicom/2016b/output/chtml/part03/sect_C.8.8.5.html\n",
    "    for i, ss_roi_sequence_i in enumerate(first_patient_rt[0][0x3006, 0x0020].value):\n",
    "        if ss_roi_sequence_i[0x3006, 0x0026].value.lower().find('gtv') != 1:\n",
    "            cancer_roi_number = i;\n",
    "            \n",
    "    if cancer_roi_number == -1:\n",
    "        print \"Could not find radiomics_gtv in patient\", patientName\n",
    "\n",
    "    # ROI Contour Sequence is 3006.0039 in the Rtst\n",
    "    # http://dicom.nema.org/medical/dicom/2016c/output/chtml/part03/sect_C.8.8.6.html\n",
    "    for i, roi_sequence_i in enumerate(first_patient_rt[0][0x3006, 0x0039].value):\n",
    "        roi_number = i;\n",
    "        labeled_regions[roi_number] = { \"slices\": [] };\n",
    "        roi_color = roi_sequence_i[0x3006, 0x002A].value;\n",
    "        contour_sequence = roi_sequence_i[0x3006, 0x0040].value;\n",
    "        labeled_regions[roi_number][\"color\"] = roi_color;\n",
    "        for i, roi_contour_sequence_i in enumerate(contour_sequence):\n",
    "            # Get the slice number corresponding to roi contour's Referenced SOP Instance UID\n",
    "            sop_instance_uid = (roi_contour_sequence_i[0x3006,0x0016]).value[0][0x0008,0x1155].value;\n",
    "            slice_number = uid_location_dict[sop_instance_uid];\n",
    "            numPoints = roi_contour_sequence_i[0x3006, 0x0046].value;\n",
    "            contour_type = roi_contour_sequence_i[0x3006, 0x0042].value;\n",
    "            if contour_type != \"CLOSED_PLANAR\":\n",
    "                print(\"Unsupported contour type found of type \", contour_type);\n",
    "                exit();\n",
    "            points = np.array(roi_contour_sequence_i[0x3006, 0x0050].value);\n",
    "            points.shape = (numPoints, 3);\n",
    "            zipped = zip(*points);\n",
    "            zipped[0] = np.subtract(zipped[0], first_patient_ct[slice_number].ImagePositionPatient[0])\n",
    "            zipped[0] = np.divide(zipped[0], first_patient_ct[slice_number].PixelSpacing[0])\n",
    "            zipped[1] = np.subtract(zipped[1], first_patient_ct[slice_number].ImagePositionPatient[1])\n",
    "            zipped[1] = np.divide(zipped[1], first_patient_ct[slice_number].PixelSpacing[1])\n",
    "            zipped[2] = np.subtract(zipped[2], first_patient_ct[0].ImagePositionPatient[2])\n",
    "            labeled_regions[roi_number][\"slices\"].append({\n",
    "                \"sliceNum\": slice_number,\n",
    "                \"z\": zipped[2][0],\n",
    "                \"data\": zipped\n",
    "            });\n",
    "\n",
    "    labeled_regions[cancer_roi_number][\"slices\"] = sorted(labeled_regions[cancer_roi_number][\"slices\"], key=lambda item: item[\"z\"])\n",
    "\n",
    "    first_patient_pixels = get_pixels_hu(first_patient_ct)\n",
    "    \n",
    "    return first_patient_ct, first_patient_pixels"
   ]
  },
  {
   "cell_type": "code",
   "execution_count": 327,
   "metadata": {
    "collapsed": true,
    "deletable": true,
    "editable": true
   },
   "outputs": [],
   "source": [
    "def resample(image, scan, new_spacing=[1,1,1]):\n",
    "    # Determine current pixel to mm ratio\n",
    "    spacing = np.array([scan[0].SliceThickness] + scan[0].PixelSpacing, dtype=np.float32)\n",
    "    # Get shape in mm\n",
    "    new_real_shape = image.shape * spacing\n",
    "    # Round to nearest integer\n",
    "    new_shape = np.round(new_real_shape)\n",
    "    # Get pixel to mm ratio after rounding\n",
    "    real_resize_factor = new_shape / image.shape\n",
    "    new_spacing = spacing / real_resize_factor\n",
    "    # Zoom the 3d scan as necessary    \n",
    "    image = scipy.ndimage.interpolation.zoom(image, real_resize_factor, mode='nearest')\n",
    "    return image, new_spacing"
   ]
  },
  {
   "cell_type": "code",
   "execution_count": 328,
   "metadata": {
    "collapsed": false,
    "deletable": true,
    "editable": true
   },
   "outputs": [],
   "source": [
    "def save_test_and_output(image, labeled_regions, patientName):\n",
    "    p = image.transpose(2,1,0)\n",
    "    \n",
    "    ground_truth = np.zeros(p.shape);\n",
    "    \n",
    "    cancer_region = labeled_regions[cancer_roi_number];\n",
    "    \n",
    "    for i, region_slice in enumerate(cancer_region[\"slices\"]):\n",
    "        xx, yy = polygon((region_slice[\"data\"][0]).astype(int), (region_slice[\"data\"][1]).astype(int), (p.shape[0], p.shape[1]));\n",
    "        xx = xx.astype(int);\n",
    "        yy = yy.astype(int);\n",
    "        zz = np.full((len(xx)),(region_slice[\"data\"][2][0])).astype(int)\n",
    "        ground_truth[xx, yy, zz] = 1;\n",
    "        if i < len(cancer_region[\"slices\"]) - 1:\n",
    "                diff = (cancer_region[\"slices\"][i + 1][\"z\"] - region_slice[\"z\"]);\n",
    "                if diff > 0:\n",
    "                    for dz in range(int(region_slice[\"z\"]), int(cancer_region[\"slices\"][i + 1][\"z\"])):\n",
    "                        zz = np.full((len(xx)),dz).astype(int)\n",
    "                        zz == zz.astype(int)\n",
    "                        ground_truth[xx, yy, zz] = 1;\n",
    "    \n",
    "    np.save(INPUT_FOLDER + patientName + \"/image\", p);\n",
    "    np.save(INPUT_FOLDER + patientName + \"/truth\", ground_truth);"
   ]
  },
  {
   "cell_type": "code",
   "execution_count": null,
   "metadata": {
    "collapsed": false,
    "deletable": true,
    "editable": true
   },
   "outputs": [
    {
     "name": "stderr",
     "output_type": "stream",
     "text": [
      "\n",
      "\n",
      "\n",
      "\n",
      "\n",
      "  0%|          | 0/229 [00:00<?, ?it/s]\u001b[A\u001b[A\u001b[A\u001b[A\u001b[A\n",
      "\n",
      "\n",
      "\n",
      "\u001b[A\u001b[A\u001b[A\u001b[A\n",
      "\n",
      "\n",
      "\n",
      "\n",
      "  0%|          | 1/229 [00:38<2:26:21, 38.52s/it]\u001b[A\u001b[A\u001b[A\u001b[A\u001b[A\n",
      "\n",
      "\n",
      "\n",
      "\n",
      "  1%|          | 2/229 [01:09<2:16:47, 36.15s/it]\u001b[A\u001b[A\u001b[A\u001b[A\u001b[A"
     ]
    }
   ],
   "source": [
    "for i in tqdm(range(len(patients))):\n",
    "    if os.path.isfile(INPUT_FOLDER + patients[i] + \"/image\"):\n",
    "        if os.path.exists(INPUT_FOLDER + patients[i] + \"/truth\"):\n",
    "            print \"Skipping patient \", patients[i]\n",
    "            continue;\n",
    "    patient_ct, patient_pixels = load_all_slices(patients[i])\n",
    "    pix_resampled, spacing = resample(patient_pixels, patient_ct, [1,1,1])\n",
    "    save_test_and_output(pix_resampled, labeled_regions, patients[i])"
   ]
  },
  {
   "cell_type": "code",
   "execution_count": null,
   "metadata": {
    "collapsed": true,
    "deletable": true,
    "editable": true
   },
   "outputs": [],
   "source": []
  },
  {
   "cell_type": "code",
   "execution_count": null,
   "metadata": {
    "collapsed": true,
    "deletable": true,
    "editable": true
   },
   "outputs": [],
   "source": []
  }
 ],
 "metadata": {
  "kernelspec": {
   "display_name": "Python 2",
   "language": "python",
   "name": "python2"
  },
  "language_info": {
   "codemirror_mode": {
    "name": "ipython",
    "version": 2
   },
   "file_extension": ".py",
   "mimetype": "text/x-python",
   "name": "python",
   "nbconvert_exporter": "python",
   "pygments_lexer": "ipython2",
   "version": "2.7.12"
  }
 },
 "nbformat": 4,
 "nbformat_minor": 2
}
